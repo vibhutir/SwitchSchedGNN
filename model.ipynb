{
 "cells": [
  {
   "cell_type": "code",
   "execution_count": 8,
   "id": "d97fff89",
   "metadata": {},
   "outputs": [],
   "source": [
    "import math\n",
    "import torch\n",
    "import torch.nn as nn\n",
    "import torch.nn.functional as F\n",
    "\n",
    "\n",
    "class MLP(nn.Module):\n",
    "    \"\"\"\n",
    "    Multilayer Perceptron (MLP).\n",
    "    \"\"\"\n",
    "    def __init__(self):\n",
    "        super().__init__()\n",
    "\n",
    "        self.fc1 = nn.Linear(5,200, dtype=torch.float64)   # fully connected layer 1\n",
    "        self.fc2 =  nn.Linear(200,300, dtype=torch.float64)  # fully connected layer 2 (output layer)\n",
    "        self.fc3 = nn.Linear(300,300, dtype=torch.float64)\n",
    "        self.fc4 = nn.Linear(300,200, dtype=torch.float64)\n",
    "        self.fc5 = nn.Linear(200,5*5, dtype=torch.float64)\n",
    "        \n",
    "        self.init_weights()\n",
    "\n",
    "    def init_weights(self):\n",
    "        for fc in [self.fc1, self.fc2, self.fc3, self.fc4, self.fc5]:\n",
    "            f_in = fc.weight.size(1)\n",
    "            nn.init.normal_(fc.weight, 0.0, 1 / math.sqrt(f_in/2))\n",
    "            nn.init.constant_(fc.bias, 0.0)\n",
    "\n",
    "    def forward(self, x):\n",
    "\n",
    "        z = F.relu(self.fc1(x))\n",
    "        z = F.relu(self.fc2(z))\n",
    "        z = F.relu(self.fc3(z))\n",
    "        z = F.relu(self.fc4(z))\n",
    "        z = self.fc5(z)\n",
    "        z = z.reshape(-1, 5, 5)  # reshape output to [batch_size, 5, 5]\n",
    "        \n",
    "        return z\n",
    "\n",
    "\n",
    "def count_parameters(model):\n",
    "    return sum(p.numel() for p in model.parameters() if p.requires_grad)\n"
   ]
  },
  {
   "cell_type": "code",
   "execution_count": 9,
   "id": "0b5a0cb1",
   "metadata": {},
   "outputs": [
    {
     "name": "stdout",
     "output_type": "stream",
     "text": [
      "MLP(\n",
      "  (fc1): Linear(in_features=5, out_features=200, bias=True)\n",
      "  (fc2): Linear(in_features=200, out_features=300, bias=True)\n",
      "  (fc3): Linear(in_features=300, out_features=300, bias=True)\n",
      "  (fc4): Linear(in_features=300, out_features=200, bias=True)\n",
      "  (fc5): Linear(in_features=200, out_features=25, bias=True)\n",
      ")\n",
      "Number of CNN parameters: 217025\n",
      "Size of model output: torch.Size([20, 5, 5])\n"
     ]
    }
   ],
   "source": [
    "if __name__ == '__main__':\n",
    "    from dataset import SwitchDataset\n",
    "    net = MLP()\n",
    "    print(net)\n",
    "    print('Number of CNN parameters: {}'.format(count_parameters(net)))\n",
    "    dataset = SwitchDataset ()\n",
    "    VOQs, Matchings = next(iter(dataset.train_loader))\n",
    "    print('Size of model output:', net(VOQs.double()).size())"
   ]
  },
  {
   "cell_type": "code",
   "execution_count": 6,
   "id": "a186ddb3",
   "metadata": {},
   "outputs": [],
   "source": [
    "import torch\n",
    "xx = torch.rand([4,5,25])"
   ]
  },
  {
   "cell_type": "code",
   "execution_count": 12,
   "id": "dc5c0a45",
   "metadata": {},
   "outputs": [
    {
     "name": "stdout",
     "output_type": "stream",
     "text": [
      "tensor([[0.6957, 0.0742, 0.4300, 0.4726, 0.2031, 0.7170, 0.5558, 0.7992, 0.8887,\n",
      "         0.3692, 0.6846, 0.0411, 0.2311, 0.1864, 0.3102, 0.4288, 0.0867, 0.6728,\n",
      "         0.9611, 0.1147, 0.7084, 0.6208, 0.4916, 0.9043, 0.8982],\n",
      "        [0.5116, 0.6817, 0.6919, 0.6359, 0.2754, 0.2347, 0.4219, 0.1444, 0.6425,\n",
      "         0.4778, 0.5828, 0.9268, 0.6429, 0.2447, 0.9827, 0.9873, 0.0449, 0.3861,\n",
      "         0.2960, 0.2812, 0.2121, 0.4212, 0.8944, 0.5519, 0.7283],\n",
      "        [0.0334, 0.7106, 0.3271, 0.4712, 0.2638, 0.0622, 0.5018, 0.3616, 0.8383,\n",
      "         0.8122, 0.1504, 0.3883, 0.0217, 0.9826, 0.2547, 0.9379, 0.4903, 0.1151,\n",
      "         0.6900, 0.2795, 0.9832, 0.9959, 0.7060, 0.6790, 0.9401],\n",
      "        [0.0016, 0.8578, 0.2292, 0.2896, 0.0951, 0.9400, 0.2277, 0.9241, 0.1898,\n",
      "         0.8321, 0.2379, 0.9686, 0.5273, 0.0713, 0.6181, 0.7810, 0.7830, 0.2592,\n",
      "         0.5633, 0.7711, 0.1324, 0.8601, 0.8911, 0.8625, 0.2240],\n",
      "        [0.0851, 0.0762, 0.3791, 0.3165, 0.2616, 0.3770, 0.8844, 0.1088, 0.5117,\n",
      "         0.7787, 0.3238, 0.9954, 0.7507, 0.3592, 0.9297, 0.6185, 0.6404, 0.9621,\n",
      "         0.8739, 0.3920, 0.4330, 0.5386, 0.3634, 0.0636, 0.7516]])\n"
     ]
    }
   ],
   "source": [
    "print(xx[0])"
   ]
  },
  {
   "cell_type": "code",
   "execution_count": null,
   "id": "796a8c3f",
   "metadata": {},
   "outputs": [],
   "source": []
  }
 ],
 "metadata": {
  "kernelspec": {
   "display_name": "Python 3 (ipykernel)",
   "language": "python",
   "name": "python3"
  },
  "language_info": {
   "codemirror_mode": {
    "name": "ipython",
    "version": 3
   },
   "file_extension": ".py",
   "mimetype": "text/x-python",
   "name": "python",
   "nbconvert_exporter": "python",
   "pygments_lexer": "ipython3",
   "version": "3.9.13"
  }
 },
 "nbformat": 4,
 "nbformat_minor": 5
}
