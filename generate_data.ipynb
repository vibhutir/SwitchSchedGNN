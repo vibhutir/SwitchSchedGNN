{
 "cells": [
  {
   "cell_type": "code",
   "execution_count": 1,
   "id": "a641ad7b",
   "metadata": {},
   "outputs": [],
   "source": [
    "import numpy as np\n",
    "from itertools import permutations\n",
    "\n",
    "def genData(N,num_samples):\n",
    "    \"\"\"\n",
    "    Generate data samples for training and testing a GNN for \n",
    "    switch scheduling assuming a crossbar switch is used.\n",
    "\n",
    "    Args:\n",
    "        N: Number of i/p and o/p ports of the switch\n",
    "        num_samples: Number of desired data samples \n",
    "\n",
    "    Returns:\n",
    "        VOQ: (num_samples, N, N) array of the number of \n",
    "             packets in each virtual output queue\n",
    "        M: (num_samples, N, N) array with the corresponding \n",
    "           matching according to the MaxWeight algoirthm \n",
    "    \"\"\"\n",
    "    VOQ = np.zeros((num_samples, N, N))\n",
    "    M = np.zeros((num_samples, N, N))\n",
    "    # Generate all permutation matrices of size N x N (represent a subset of the possible matchings)\n",
    "    perms = permutations(np.eye(N))\n",
    "    perm_matrices = np.zeros((np.math.factorial(N), N, N))\n",
    "    for i, perm in enumerate(perms):\n",
    "        perm_matrices[i] = np.array(perm).reshape(N, N)\n",
    "        \n",
    "    h = perm_matrices.shape[0]\n",
    "    for i in range(num_samples):\n",
    "        # Randomly initialize the # of packets in each VOQ (takes values b/w 0 & 5) for each iteration\n",
    "        VOQ_i = np.random.randint(low=0, high=6, size=(N,N))\n",
    "        hadQM = np.zeros((h, N, N))\n",
    "        wsum = np.zeros(h)\n",
    "        # MaxWeight algo.\n",
    "        for j in range(h):\n",
    "            # Hadamard product b/w VOQ matrix and (possible) matching matrix\n",
    "            hadQM[j] = VOQ_i * perm_matrices[j]\n",
    "            wsum[j] = np.sum(hadQM[j])\n",
    "        \n",
    "        M_i = hadQM[np.argmax(wsum)]\n",
    "        M_i = np.where(M_i != 0, 1, M_i)\n",
    "        \n",
    "        VOQ[i] = VOQ_i\n",
    "        M[i] = M_i\n",
    "        print(f\"Generated the {i}th training sample\")\n",
    "        \n",
    "    return VOQ, M\n",
    "    "
   ]
  },
  {
   "cell_type": "code",
   "execution_count": 2,
   "id": "489d9127",
   "metadata": {
    "scrolled": true
   },
   "outputs": [
    {
     "ename": "NameError",
     "evalue": "name 'time' is not defined",
     "output_type": "error",
     "traceback": [
      "\u001b[1;31m---------------------------------------------------------------------------\u001b[0m",
      "\u001b[1;31mNameError\u001b[0m                                 Traceback (most recent call last)",
      "\u001b[1;32m~\\AppData\\Local\\Temp\\ipykernel_8680\\1807099501.py\u001b[0m in \u001b[0;36m<module>\u001b[1;34m\u001b[0m\n\u001b[0;32m      1\u001b[0m \u001b[1;32mif\u001b[0m \u001b[0m__name__\u001b[0m \u001b[1;33m==\u001b[0m \u001b[1;34m'__main__'\u001b[0m\u001b[1;33m:\u001b[0m\u001b[1;33m\u001b[0m\u001b[1;33m\u001b[0m\u001b[0m\n\u001b[1;32m----> 2\u001b[1;33m     \u001b[0mst\u001b[0m \u001b[1;33m=\u001b[0m \u001b[0mtime\u001b[0m\u001b[1;33m.\u001b[0m\u001b[0mprocess_time\u001b[0m\u001b[1;33m(\u001b[0m\u001b[1;33m)\u001b[0m\u001b[1;33m\u001b[0m\u001b[1;33m\u001b[0m\u001b[0m\n\u001b[0m\u001b[0;32m      3\u001b[0m     \u001b[0mVOQ\u001b[0m\u001b[1;33m,\u001b[0m \u001b[0mM\u001b[0m \u001b[1;33m=\u001b[0m \u001b[0mgenData\u001b[0m\u001b[1;33m(\u001b[0m\u001b[1;36m5\u001b[0m\u001b[1;33m,\u001b[0m \u001b[1;36m1000\u001b[0m\u001b[1;33m)\u001b[0m\u001b[1;33m\u001b[0m\u001b[1;33m\u001b[0m\u001b[0m\n\u001b[0;32m      4\u001b[0m     \u001b[0met\u001b[0m \u001b[1;33m=\u001b[0m \u001b[0mtime\u001b[0m\u001b[1;33m.\u001b[0m\u001b[0mprocess_time\u001b[0m\u001b[1;33m(\u001b[0m\u001b[1;33m)\u001b[0m\u001b[1;33m\u001b[0m\u001b[1;33m\u001b[0m\u001b[0m\n\u001b[0;32m      5\u001b[0m     \u001b[0mprint\u001b[0m\u001b[1;33m(\u001b[0m\u001b[1;34m'CPU Execution time:'\u001b[0m\u001b[1;33m,\u001b[0m \u001b[0met\u001b[0m \u001b[1;33m-\u001b[0m \u001b[0mst\u001b[0m\u001b[1;33m,\u001b[0m \u001b[1;34m'seconds'\u001b[0m\u001b[1;33m)\u001b[0m\u001b[1;33m\u001b[0m\u001b[1;33m\u001b[0m\u001b[0m\n",
      "\u001b[1;31mNameError\u001b[0m: name 'time' is not defined"
     ]
    }
   ],
   "source": [
    "if __name__ == '__main__':\n",
    "    st = time.process_time()\n",
    "    VOQ, M = genData(5, 1000)\n",
    "#     et = time.process_time()\n",
    "#     print('CPU Execution time:', et - st, 'seconds')\n",
    "    np.save('VOQ_samples5.npy', VOQ)\n",
    "    np.save('Matching_samples5.npy', M)"
   ]
  },
  {
   "cell_type": "code",
   "execution_count": null,
   "id": "5982ab7f",
   "metadata": {},
   "outputs": [],
   "source": []
  }
 ],
 "metadata": {
  "kernelspec": {
   "display_name": "Python 3 (ipykernel)",
   "language": "python",
   "name": "python3"
  },
  "language_info": {
   "codemirror_mode": {
    "name": "ipython",
    "version": 3
   },
   "file_extension": ".py",
   "mimetype": "text/x-python",
   "name": "python",
   "nbconvert_exporter": "python",
   "pygments_lexer": "ipython3",
   "version": "3.9.13"
  }
 },
 "nbformat": 4,
 "nbformat_minor": 5
}
