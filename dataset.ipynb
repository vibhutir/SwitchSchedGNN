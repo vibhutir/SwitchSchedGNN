{
 "cells": [
  {
   "cell_type": "code",
   "execution_count": 1,
   "id": "cc17cd59",
   "metadata": {},
   "outputs": [],
   "source": [
    "import numpy as np\n",
    "import torch\n",
    "import torchvision.transforms as transforms\n",
    "from torch.utils.data import TensorDataset\n",
    "\n",
    "\n",
    "class SwitchDataset:\n",
    "\n",
    "    def __init__(self, batch_size=1, training_size=800):\n",
    "        self.batch_size = batch_size\n",
    "        self.training_size = training_size\n",
    "        self.train_feature, self.test_feature = self.get_feature()\n",
    "        self.train_response, self.test_response = self.get_response()\n",
    "        self.mean, self.std = self.compute_train_statistics()\n",
    "        self.train_loader, self.val_loader = self.get_dataloaders()\n",
    "\n",
    "    def get_feature(self):\n",
    "        data_feature = np.load(\"data/VOQ_samples5.npy\")\n",
    "        train_feature = data_feature[:self.training_size, :, :]\n",
    "        # Should I also divide the elements of this matrix by 5?\n",
    "        test_feature = data_feature[self.training_size:, :, :]\n",
    "        return train_feature, test_feature\n",
    "    \n",
    "    def get_response(self):\n",
    "        data_response = np.load(\"data/Matching_samples5.npy\")\n",
    "        train_response = data_response[:self.training_size, :, :]\n",
    "        test_response = data_response[self.training_size:, :, :]\n",
    "        return train_response, test_response\n",
    "\n",
    "    def compute_train_statistics(self):\n",
    "        # compute mean and std with respect to self.train_feature\n",
    "        mean = np.mean(self.train_feature/5)  \n",
    "        std = np.std(self.train_feature/5)  \n",
    "        return mean, std\n",
    "\n",
    "    def get_dataloaders(self):\n",
    "        normalize = transforms.Normalize(self.mean, self.std)\n",
    "        # train set\n",
    "        train_set = TensorDataset(normalize(torch.tensor(self.train_feature)), torch.tensor(self.train_response))\n",
    "        train_loader = torch.utils.data.DataLoader(train_set, batch_size=self.batch_size, shuffle=True)\n",
    "\n",
    "        # validation set\n",
    "        val_set = TensorDataset(normalize(torch.tensor(self.test_feature)), torch.tensor(self.test_response))\n",
    "        val_loader = torch.utils.data.DataLoader(val_set, batch_size=self.batch_size, shuffle=False)\n",
    "\n",
    "        return train_loader, val_loader\n",
    "    "
   ]
  },
  {
   "cell_type": "code",
   "execution_count": 2,
   "id": "8055b44b",
   "metadata": {},
   "outputs": [
    {
     "name": "stdout",
     "output_type": "stream",
     "text": [
      "0.50134 0.3409372440787307\n"
     ]
    }
   ],
   "source": [
    "if __name__ == '__main__':\n",
    "    dataset = SwitchDataset()\n",
    "    print(dataset.mean, dataset.std)\n"
   ]
  },
  {
   "cell_type": "code",
   "execution_count": null,
   "id": "4d57d7dc",
   "metadata": {},
   "outputs": [],
   "source": []
  }
 ],
 "metadata": {
  "kernelspec": {
   "display_name": "Python 3 (ipykernel)",
   "language": "python",
   "name": "python3"
  },
  "language_info": {
   "codemirror_mode": {
    "name": "ipython",
    "version": 3
   },
   "file_extension": ".py",
   "mimetype": "text/x-python",
   "name": "python",
   "nbconvert_exporter": "python",
   "pygments_lexer": "ipython3",
   "version": "3.9.13"
  }
 },
 "nbformat": 4,
 "nbformat_minor": 5
}
